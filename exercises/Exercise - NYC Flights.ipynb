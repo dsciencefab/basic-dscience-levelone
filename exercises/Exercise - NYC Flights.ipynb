{
 "cells": [
  {
   "cell_type": "markdown",
   "id": "0c582e48",
   "metadata": {},
   "source": [
    "# Data Science for Absolute Beginners\n",
    "## NYC Flights Exercises\n",
    "Last Update: 01-31-2023"
   ]
  },
  {
   "cell_type": "markdown",
   "id": "ad0871bf",
   "metadata": {},
   "source": [
    "## Find all flights that:\n",
    "\n",
    "- Had an arrival delay of two or more hours\n",
    "- Flew to Houston (IAH or HOU)\n",
    "- Were operated by United, Amerian or Delta\n",
    "- Departed in summer (July, August, and September\n",
    "- Arrived more than two hours late, but didn't leave late\n",
    "- Were delayed by at least an hour, but made up over at least 30 minutes in flight\n",
    "- Departed between midnight and 6 a.m (inclusive)\n"
   ]
  },
  {
   "cell_type": "markdown",
   "id": "f7084226",
   "metadata": {},
   "source": [
    "### Had an arrival delay of two or more hours"
   ]
  },
  {
   "cell_type": "code",
   "execution_count": null,
   "id": "cd73dcee",
   "metadata": {},
   "outputs": [],
   "source": []
  },
  {
   "cell_type": "markdown",
   "id": "f4a26998",
   "metadata": {},
   "source": [
    "### Flew to Houston (IAH or HOU)"
   ]
  },
  {
   "cell_type": "code",
   "execution_count": null,
   "id": "c179d96b",
   "metadata": {},
   "outputs": [],
   "source": []
  },
  {
   "cell_type": "markdown",
   "id": "9b01f7f3",
   "metadata": {},
   "source": [
    "### Were operated by United, Amerian or Delta"
   ]
  },
  {
   "cell_type": "code",
   "execution_count": null,
   "id": "18abb4c9",
   "metadata": {},
   "outputs": [],
   "source": []
  },
  {
   "cell_type": "markdown",
   "id": "84b80a06",
   "metadata": {},
   "source": [
    "### Departed in summer (July, August, and September"
   ]
  },
  {
   "cell_type": "code",
   "execution_count": null,
   "id": "66993b3a",
   "metadata": {},
   "outputs": [],
   "source": []
  },
  {
   "cell_type": "markdown",
   "id": "20692be5",
   "metadata": {},
   "source": [
    "### Were delayed by at least an hour, but made up over at least 30 minutes in flight"
   ]
  },
  {
   "cell_type": "code",
   "execution_count": null,
   "id": "da976355",
   "metadata": {},
   "outputs": [],
   "source": []
  },
  {
   "cell_type": "markdown",
   "id": "593478f7",
   "metadata": {},
   "source": [
    "### Departed between midnight and 6 a.m (inclusive)"
   ]
  },
  {
   "cell_type": "code",
   "execution_count": null,
   "id": "b43cb99a",
   "metadata": {},
   "outputs": [],
   "source": []
  }
 ],
 "metadata": {
  "kernelspec": {
   "display_name": "Python 3 (ipykernel)",
   "language": "python",
   "name": "python3"
  },
  "language_info": {
   "codemirror_mode": {
    "name": "ipython",
    "version": 3
   },
   "file_extension": ".py",
   "mimetype": "text/x-python",
   "name": "python",
   "nbconvert_exporter": "python",
   "pygments_lexer": "ipython3",
   "version": "3.9.13"
  }
 },
 "nbformat": 4,
 "nbformat_minor": 5
}
